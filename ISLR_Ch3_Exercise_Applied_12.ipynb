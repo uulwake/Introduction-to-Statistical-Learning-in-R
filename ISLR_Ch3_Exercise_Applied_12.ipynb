{
 "cells": [
  {
   "cell_type": "markdown",
   "metadata": {},
   "source": [
    "# Soal 12\n",
    "\n",
    "1. [Apa syarat agar koefisien y onto x dan x onto y sama untuk regresi tanpa intercept](#1)\n",
    "2. [Buat contoh dimana koefisien y onto x dan x onto y berbeda](#2)\n",
    "3. [Buat contoh dimana koefisien y onto x dan x onto y sama](#3)"
   ]
  },
  {
   "cell_type": "code",
   "execution_count": 1,
   "metadata": {},
   "outputs": [],
   "source": [
    "import numpy as np\n",
    "import pandas as pd\n",
    "import matplotlib.pyplot as plt\n",
    "from sklearn.linear_model import LinearRegression"
   ]
  },
  {
   "cell_type": "markdown",
   "metadata": {},
   "source": [
    "## 1"
   ]
  },
  {
   "cell_type": "markdown",
   "metadata": {},
   "source": [
    "Dari soal nomor 11, jelas bahwa koefisiennya akan sama jika jumlah kuadrat $x_i$ sama dengan $y_i$ "
   ]
  },
  {
   "cell_type": "markdown",
   "metadata": {},
   "source": [
    "[kembali ke atas](#Soal-12)"
   ]
  },
  {
   "cell_type": "markdown",
   "metadata": {},
   "source": [
    "## 2"
   ]
  },
  {
   "cell_type": "code",
   "execution_count": 2,
   "metadata": {},
   "outputs": [],
   "source": [
    "x = np.arange(100)"
   ]
  },
  {
   "cell_type": "code",
   "execution_count": 3,
   "metadata": {},
   "outputs": [
    {
     "data": {
      "text/plain": [
       "array([ 0,  1,  2,  3,  4,  5,  6,  7,  8,  9, 10, 11, 12, 13, 14, 15, 16,\n",
       "       17, 18, 19, 20, 21, 22, 23, 24, 25, 26, 27, 28, 29, 30, 31, 32, 33,\n",
       "       34, 35, 36, 37, 38, 39, 40, 41, 42, 43, 44, 45, 46, 47, 48, 49, 50,\n",
       "       51, 52, 53, 54, 55, 56, 57, 58, 59, 60, 61, 62, 63, 64, 65, 66, 67,\n",
       "       68, 69, 70, 71, 72, 73, 74, 75, 76, 77, 78, 79, 80, 81, 82, 83, 84,\n",
       "       85, 86, 87, 88, 89, 90, 91, 92, 93, 94, 95, 96, 97, 98, 99])"
      ]
     },
     "execution_count": 3,
     "metadata": {},
     "output_type": "execute_result"
    }
   ],
   "source": [
    "x"
   ]
  },
  {
   "cell_type": "code",
   "execution_count": 4,
   "metadata": {},
   "outputs": [
    {
     "data": {
      "text/plain": [
       "(100,)"
      ]
     },
     "execution_count": 4,
     "metadata": {},
     "output_type": "execute_result"
    }
   ],
   "source": [
    "x.shape"
   ]
  },
  {
   "cell_type": "code",
   "execution_count": 5,
   "metadata": {},
   "outputs": [],
   "source": [
    "y = x + np.random.normal(size=100)"
   ]
  },
  {
   "cell_type": "code",
   "execution_count": 6,
   "metadata": {},
   "outputs": [
    {
     "data": {
      "text/plain": [
       "array([-4.75042479e-02,  2.93235024e+00,  1.66256981e+00,  3.04914459e+00,\n",
       "        2.95549193e+00,  5.64741331e+00,  5.86429244e+00,  7.30132296e+00,\n",
       "        8.14780562e+00,  9.78589049e+00,  9.19765917e+00,  1.11997768e+01,\n",
       "        1.11965626e+01,  1.32257566e+01,  1.46435912e+01,  1.54211581e+01,\n",
       "        1.56107623e+01,  1.72984233e+01,  1.88784252e+01,  1.89350957e+01,\n",
       "        2.05366167e+01,  2.08847119e+01,  2.29566860e+01,  2.35149017e+01,\n",
       "        2.32840923e+01,  2.42168556e+01,  2.60669753e+01,  2.91786215e+01,\n",
       "        2.73416064e+01,  3.02121564e+01,  3.05592904e+01,  3.21693760e+01,\n",
       "        3.17775085e+01,  3.32541205e+01,  3.36028642e+01,  3.49878473e+01,\n",
       "        3.64920267e+01,  3.59687942e+01,  3.72297265e+01,  4.00900803e+01,\n",
       "        3.93067096e+01,  4.17971697e+01,  4.24239843e+01,  4.14508696e+01,\n",
       "        4.57735975e+01,  4.51881140e+01,  4.58547463e+01,  4.62722815e+01,\n",
       "        4.87935847e+01,  4.92569009e+01,  5.09898772e+01,  5.05904027e+01,\n",
       "        5.21195905e+01,  5.25398829e+01,  5.49702806e+01,  5.58419299e+01,\n",
       "        5.46831035e+01,  5.78694981e+01,  5.90940817e+01,  5.88120244e+01,\n",
       "        6.14558261e+01,  6.24719841e+01,  6.26870162e+01,  6.28926210e+01,\n",
       "        6.54818533e+01,  6.52865073e+01,  6.85734808e+01,  6.65652143e+01,\n",
       "        6.85757473e+01,  6.84815545e+01,  6.98770283e+01,  7.07312083e+01,\n",
       "        7.15621122e+01,  7.18655214e+01,  7.37162850e+01,  7.28691886e+01,\n",
       "        7.57334319e+01,  7.58324689e+01,  7.78550031e+01,  7.81768219e+01,\n",
       "        8.12939431e+01,  8.16401056e+01,  8.12019313e+01,  8.47354875e+01,\n",
       "        8.50959509e+01,  8.46643636e+01,  8.60766105e+01,  8.63910034e+01,\n",
       "        9.01643930e+01,  9.03665578e+01,  9.02166381e+01,  9.06455678e+01,\n",
       "        9.39082220e+01,  9.20208814e+01,  9.44458346e+01,  9.55237965e+01,\n",
       "        9.74971282e+01,  9.81233018e+01,  9.91974482e+01,  9.80632727e+01])"
      ]
     },
     "execution_count": 6,
     "metadata": {},
     "output_type": "execute_result"
    }
   ],
   "source": [
    "y"
   ]
  },
  {
   "cell_type": "code",
   "execution_count": 7,
   "metadata": {},
   "outputs": [
    {
     "data": {
      "text/plain": [
       "(100,)"
      ]
     },
     "execution_count": 7,
     "metadata": {},
     "output_type": "execute_result"
    }
   ],
   "source": [
    "y.shape"
   ]
  },
  {
   "cell_type": "code",
   "execution_count": 8,
   "metadata": {},
   "outputs": [],
   "source": [
    "x = x.reshape(np.shape(x)[0],1)\n",
    "y = y.reshape(np.shape(y)[0],1)"
   ]
  },
  {
   "cell_type": "code",
   "execution_count": 9,
   "metadata": {},
   "outputs": [
    {
     "data": {
      "text/plain": [
       "(100, 1)"
      ]
     },
     "execution_count": 9,
     "metadata": {},
     "output_type": "execute_result"
    }
   ],
   "source": [
    "x.shape"
   ]
  },
  {
   "cell_type": "code",
   "execution_count": 10,
   "metadata": {},
   "outputs": [
    {
     "data": {
      "text/plain": [
       "(100, 1)"
      ]
     },
     "execution_count": 10,
     "metadata": {},
     "output_type": "execute_result"
    }
   ],
   "source": [
    "y.shape"
   ]
  },
  {
   "cell_type": "code",
   "execution_count": 11,
   "metadata": {},
   "outputs": [],
   "source": [
    "lr = LinearRegression(fit_intercept=False)\n",
    "model = lr.fit(x, y)"
   ]
  },
  {
   "cell_type": "code",
   "execution_count": 12,
   "metadata": {},
   "outputs": [
    {
     "data": {
      "text/plain": [
       "array([[1.00394695]])"
      ]
     },
     "execution_count": 12,
     "metadata": {},
     "output_type": "execute_result"
    }
   ],
   "source": [
    "lr.coef_"
   ]
  },
  {
   "cell_type": "code",
   "execution_count": 13,
   "metadata": {},
   "outputs": [
    {
     "data": {
      "image/png": "[encoded data removed]",
      "text/plain": [
       "<Figure size 432x288 with 1 Axes>"
      ]
     },
     "metadata": {
      "needs_background": "light"
     },
     "output_type": "display_data"
    }
   ],
   "source": [
    "plt.scatter(x, y,  color='red')\n",
    "plt.plot(x, model.predict(x), color='black', linewidth=5)\n",
    "plt.show()"
   ]
  },
  {
   "cell_type": "code",
   "execution_count": 14,
   "metadata": {},
   "outputs": [],
   "source": [
    "model2 = lr.fit(y, x)"
   ]
  },
  {
   "cell_type": "code",
   "execution_count": 15,
   "metadata": {},
   "outputs": [
    {
     "data": {
      "text/plain": [
       "array([[0.99582493]])"
      ]
     },
     "execution_count": 15,
     "metadata": {},
     "output_type": "execute_result"
    }
   ],
   "source": [
    "model.coef_"
   ]
  },
  {
   "cell_type": "code",
   "execution_count": 16,
   "metadata": {},
   "outputs": [
    {
     "data": {
      "text/plain": [
       "array([[0.99582493]])"
      ]
     },
     "execution_count": 16,
     "metadata": {},
     "output_type": "execute_result"
    }
   ],
   "source": [
    "lr.coef_"
   ]
  },
  {
   "cell_type": "code",
   "execution_count": 17,
   "metadata": {},
   "outputs": [
    {
     "data": {
      "image/png": "[encoded data removed]",
      "text/plain": [
       "<Figure size 432x288 with 1 Axes>"
      ]
     },
     "metadata": {
      "needs_background": "light"
     },
     "output_type": "display_data"
    }
   ],
   "source": [
    "plt.scatter(y, x,  color='red')\n",
    "plt.plot(y, model.predict(y), color='black', linewidth=5)\n",
    "plt.show()"
   ]
  },
  {
   "cell_type": "markdown",
   "metadata": {},
   "source": [
    "[kembali ke atas](#Soal-12)"
   ]
  },
  {
   "cell_type": "markdown",
   "metadata": {},
   "source": [
    "## 3"
   ]
  },
  {
   "cell_type": "markdown",
   "metadata": {},
   "source": [
    "Agar nilai koefisien model_1 dan model_2 sama, maka syarat di nomor 1 harus terpenuhi."
   ]
  },
  {
   "cell_type": "code",
   "execution_count": 18,
   "metadata": {},
   "outputs": [
    {
     "data": {
      "image/png": "[encoded data removed]",
      "text/plain": [
       "<Figure size 432x288 with 1 Axes>"
      ]
     },
     "metadata": {
      "needs_background": "light"
     },
     "output_type": "display_data"
    }
   ],
   "source": [
    "x = np.random.randint(200, size=100)\n",
    "y = np.random.permutation(x)\n",
    "\n",
    "# set dimensinya agar bisa dirposes di sklearn\n",
    "x = x.reshape(np.shape(x)[0], 1)\n",
    "y = y.reshape(np.shape(y)[0], 1)\n",
    "\n",
    "# tanpa menggunakan intercept\n",
    "linear_regr = LinearRegression(fit_intercept=False)\n",
    "model_1 = linear_regr.fit(x, y)\n",
    "coef_beta_x = model_1.coef_\n",
    "\n",
    "plt.scatter(x, y,  color='red')\n",
    "plt.plot(x, model.predict(x), color='black', linewidth=5)\n",
    "plt.show()"
   ]
  },
  {
   "cell_type": "code",
   "execution_count": 19,
   "metadata": {},
   "outputs": [
    {
     "data": {
      "image/png": "[encoded data removed]",
      "text/plain": [
       "<Figure size 432x288 with 1 Axes>"
      ]
     },
     "metadata": {
      "needs_background": "light"
     },
     "output_type": "display_data"
    }
   ],
   "source": [
    "model_2 = linear_regr.fit(y, x)\n",
    "coef_beta_y = model_2.coef_\n",
    "\n",
    "plt.scatter(y, x,  color='red')\n",
    "plt.plot(y, model.predict(y), color='black', linewidth=5)\n",
    "plt.show()"
   ]
  },
  {
   "cell_type": "code",
   "execution_count": 20,
   "metadata": {},
   "outputs": [
    {
     "name": "stdout",
     "output_type": "stream",
     "text": [
      "koefisien β_x =>  [[0.71269442]]\n",
      "koefisien β_y =>  [[0.71269442]]\n"
     ]
    }
   ],
   "source": [
    "print('koefisien β_x => ', coef_beta_x)\n",
    "print('koefisien β_y => ', coef_beta_y)"
   ]
  },
  {
   "cell_type": "markdown",
   "metadata": {},
   "source": [
    "[kembali ke atas](#Soal-12)"
   ]
  }
 ],
 "metadata": {
  "kernelspec": {
   "display_name": "Python 3",
   "language": "python",
   "name": "python3"
  },
  "language_info": {
   "codemirror_mode": {
    "name": "ipython",
    "version": 3
   },
   "file_extension": ".py",
   "mimetype": "text/x-python",
   "name": "python",
   "nbconvert_exporter": "python",
   "pygments_lexer": "ipython3",
   "version": "3.7.1"
  }
 },
 "nbformat": 4,
 "nbformat_minor": 2
}
